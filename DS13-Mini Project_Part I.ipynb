{
  "nbformat": 4,
  "nbformat_minor": 0,
  "metadata": {
    "colab": {
      "name": "DS13_Mini Project Part I.ipynb",
      "provenance": []
    },
    "kernelspec": {
      "name": "python3",
      "display_name": "Python 3"
    },
    "language_info": {
      "name": "python"
    }
  },
  "cells": [
    {
      "cell_type": "markdown",
      "metadata": {
        "id": "NVBAv_8FXtXt"
      },
      "source": [
        "# **Part I: Data collection**\n",
        "\n",
        "## Note: This part (Part I) is framed in a seperated file with later parts(Part II - Part VI) since it takes long time to collect the data. \n",
        "\n",
        "### After running the codes in this file, we collect data with the features of:\n",
        "\n",
        "\n",
        "*  **Up to date**: The time period is from April 1 to June 17 with the latest information for the past two months (**7393 days**)\n",
        "* **Large volume**: The total raw data we collected for all parks in the above mentioned period contains **902338** rows, which helps us improve the model accuracy. (The total data for our vacancy prediction for Lee Garden One Car Park contains **6890** rows.)\n",
        "*  **Requested types**: As described in the problem statement, we only collect data from car parks with “type” value “P” and “vacancy_type” value “A”\n",
        "* **Different parks**: Although we deal with the basic problem, for this data collection part, we collected data with regards to all the parks\n",
        "\n",
        "### We frame the data into three files:\n",
        "\n",
        "\n",
        "*   Data_Onepark.csv: This *.csv* document is the one we used to solve our basic problem for the given Lee Garden One Car Park.\n",
        "*   Data_MultiPark.csv: This *.csv* document is the one can be used to solve the advanced problem with informations of all parks included.\n",
        "*   Data_Basic.csv: This *.csv* document for the basic information of each park, e.g. geographic information, telephone number, address, districts, etc.\n"
      ]
    },
    {
      "cell_type": "markdown",
      "metadata": {
        "id": "5HL_b_Z7eCFr"
      },
      "source": [
        "### **Step 1: Import the libraries for collection data**"
      ]
    },
    {
      "cell_type": "code",
      "metadata": {
        "id": "vmbQxCbuXkCr"
      },
      "source": [
        "import json\n",
        "import requests\n",
        "import pandas as pd\n",
        "import numpy as np"
      ],
      "execution_count": 1,
      "outputs": []
    },
    {
      "cell_type": "markdown",
      "metadata": {
        "id": "jz_gDIG8fO7e"
      },
      "source": [
        "### **Step 2: Set intervals for the time period we choose for our data collection.**"
      ]
    },
    {
      "cell_type": "code",
      "metadata": {
        "id": "lhHbfEOYeTqR"
      },
      "source": [
        "data_interval = pd.date_range(start=\"2021/4/1\", end=\"2021/6/17\", freq=\"15T\")"
      ],
      "execution_count": 2,
      "outputs": []
    },
    {
      "cell_type": "code",
      "metadata": {
        "colab": {
          "base_uri": "https://localhost:8080/"
        },
        "id": "DYjp4cNQfrAL",
        "outputId": "9be8b441-66a7-4097-ca4a-2ade90522d16"
      },
      "source": [
        "data_interval[36]"
      ],
      "execution_count": 3,
      "outputs": [
        {
          "output_type": "execute_result",
          "data": {
            "text/plain": [
              "Timestamp('2021-04-01 09:00:00', freq='15T')"
            ]
          },
          "metadata": {
            "tags": []
          },
          "execution_count": 3
        }
      ]
    },
    {
      "cell_type": "code",
      "metadata": {
        "id": "CNwIUtjYf0Bd"
      },
      "source": [
        "data_interval2 = list(data_interval)"
      ],
      "execution_count": 4,
      "outputs": []
    },
    {
      "cell_type": "code",
      "metadata": {
        "colab": {
          "base_uri": "https://localhost:8080/"
        },
        "id": "5UmF76cXf4Fy",
        "outputId": "cc62f2b0-44e1-436b-ef20-6a86bbe02010"
      },
      "source": [
        "data_interval2[-1]"
      ],
      "execution_count": 5,
      "outputs": [
        {
          "output_type": "execute_result",
          "data": {
            "text/plain": [
              "Timestamp('2021-06-17 00:00:00', freq='15T')"
            ]
          },
          "metadata": {
            "tags": []
          },
          "execution_count": 5
        }
      ]
    },
    {
      "cell_type": "code",
      "metadata": {
        "colab": {
          "base_uri": "https://localhost:8080/",
          "height": 35
        },
        "id": "WjROH1nwf6dE",
        "outputId": "3fc0b880-5abc-41a0-e365-4d0fbf7aa878"
      },
      "source": [
        "# https://api.data.gov.hk/v1/historical-archive/get-file?url=https%3A%2F%2Fresource.data.one.gov.hk%2Ftd%2Fcarpark%2Fvacancy_all.json&time=\n",
        "# 0210309-0900\n",
        "\n",
        "data_interval2[-1].strftime('%Y%m%d-%H:%M').replace(\":\",\"\") "
      ],
      "execution_count": 6,
      "outputs": [
        {
          "output_type": "execute_result",
          "data": {
            "application/vnd.google.colaboratory.intrinsic+json": {
              "type": "string"
            },
            "text/plain": [
              "'20210617-0000'"
            ]
          },
          "metadata": {
            "tags": []
          },
          "execution_count": 6
        }
      ]
    },
    {
      "cell_type": "markdown",
      "metadata": {
        "id": "oA1Pa9nLgJut"
      },
      "source": [
        "### **Step 3: Time format conversion**"
      ]
    },
    {
      "cell_type": "code",
      "metadata": {
        "colab": {
          "base_uri": "https://localhost:8080/"
        },
        "id": "BIYvwQXYf9h-",
        "outputId": "6449b85e-2b46-4265-f57c-5d1274cacb3c"
      },
      "source": [
        "converted_dates = []\n",
        "\n",
        "for i, date in enumerate(data_interval2):\n",
        "  converted_dates.append(data_interval2[i].strftime('%Y%m%d-%H:%M').replace(\":\",\"\"))\n",
        "\n",
        "len(converted_dates)"
      ],
      "execution_count": 7,
      "outputs": [
        {
          "output_type": "execute_result",
          "data": {
            "text/plain": [
              "7393"
            ]
          },
          "metadata": {
            "tags": []
          },
          "execution_count": 7
        }
      ]
    },
    {
      "cell_type": "code",
      "metadata": {
        "colab": {
          "base_uri": "https://localhost:8080/",
          "height": 35
        },
        "id": "qCCk-kQ5gWVF",
        "outputId": "f92e5400-ad88-43ca-be2b-7ef3fb0393f7"
      },
      "source": [
        "converted_dates[-1]"
      ],
      "execution_count": 8,
      "outputs": [
        {
          "output_type": "execute_result",
          "data": {
            "application/vnd.google.colaboratory.intrinsic+json": {
              "type": "string"
            },
            "text/plain": [
              "'20210617-0000'"
            ]
          },
          "metadata": {
            "tags": []
          },
          "execution_count": 8
        }
      ]
    },
    {
      "cell_type": "code",
      "metadata": {
        "colab": {
          "base_uri": "https://localhost:8080/"
        },
        "id": "b82_naoUgZ2a",
        "outputId": "f5aea19a-1153-48a7-bb66-d3578a6a2643"
      },
      "source": [
        "base_url = 'https://api.data.gov.hk/v1/historical-archive/get-file?url=https%3A%2F%2Fresource.data.one.gov.hk%2Ftd%2Fcarpark%2Fvacancy_all.json&time=' \n",
        "\n",
        "def combine_url(date):\n",
        "  return base_url+date\n",
        "\n",
        "map(combine_url, converted_dates)"
      ],
      "execution_count": 9,
      "outputs": [
        {
          "output_type": "execute_result",
          "data": {
            "text/plain": [
              "<map at 0x7f47389a3690>"
            ]
          },
          "metadata": {
            "tags": []
          },
          "execution_count": 9
        }
      ]
    },
    {
      "cell_type": "code",
      "metadata": {
        "id": "hR66sX3uglGt"
      },
      "source": [
        "# the url for each time interval\n",
        "url_list = list(map(combine_url, converted_dates))"
      ],
      "execution_count": 10,
      "outputs": []
    },
    {
      "cell_type": "markdown",
      "metadata": {
        "id": "9skXqVXUguSu"
      },
      "source": [
        "### **Step 4: The core algorithms for us to collect data from gov. API**"
      ]
    },
    {
      "cell_type": "code",
      "metadata": {
        "id": "kmZTJPDNgos2"
      },
      "source": [
        "result_df_list = []\n",
        "\n",
        "for url in url_list:\n",
        "  json_data = requests.get(url).content\n",
        "  data_CarPark = json.loads(json_data)\n",
        "  CarPark_typeP= pd.json_normalize(data_CarPark['car_park'],record_path=['vehicle_type'],meta=['park_id'])\n",
        "  CarPark_P = CarPark_typeP[CarPark_typeP['type']=='P']\n",
        "  CarPark_notype = CarPark_P.drop(['type'],axis =1)\n",
        "  CarPark_d2 =CarPark_notype.to_dict('records')\n",
        "  CarPark_d3= pd.json_normalize(CarPark_d2,record_path=['service_category'],meta=['park_id'])\n",
        "  Car_vacancy = CarPark_d3[CarPark_d3['vacancy_type']=='A']\n",
        "  result_df_list.append(Car_vacancy)\n",
        "vacancy_df = pd.concat(result_df_list)"
      ],
      "execution_count": null,
      "outputs": []
    },
    {
      "cell_type": "markdown",
      "metadata": {
        "id": "7N4WzJkIhC7K"
      },
      "source": [
        "### **Step 5: Save the data to the .csv file for later usage**"
      ]
    },
    {
      "cell_type": "code",
      "metadata": {
        "id": "Fh_KGCmgg-bb"
      },
      "source": [
        "vacancy_df.to_csv(r'/content/sample_data/Data_Multiparks.csv', index = False)\n"
      ],
      "execution_count": null,
      "outputs": []
    },
    {
      "cell_type": "markdown",
      "metadata": {
        "id": "Nuz_pmWfhkaO"
      },
      "source": [
        "### **Step 6: Read the file for the basic information**"
      ]
    },
    {
      "cell_type": "code",
      "metadata": {
        "id": "fknuCFqOiQ1u"
      },
      "source": [
        "# read the first document and get the geographical information\n",
        "url_Basic = 'https://resource.data.one.gov.hk/td/carpark/basic_info_all.json'\n",
        "data_Basic= json.loads(requests.get(url_Basic).content)\n",
        "data_dis = pd.json_normalize(data_Basic['car_park'])"
      ],
      "execution_count": null,
      "outputs": []
    },
    {
      "cell_type": "code",
      "metadata": {
        "id": "c2kpZVB8iYOt"
      },
      "source": [
        "# show the data\n",
        "data_dis"
      ],
      "execution_count": null,
      "outputs": []
    },
    {
      "cell_type": "code",
      "metadata": {
        "id": "T9scP_EYiZ4b"
      },
      "source": [
        "#drop unnecessary information\n",
        "data_dis = data_dis.drop(['name_tc',\n",
        "               'name_sc',\n",
        "               'displayAddress_en',\n",
        "               'displayAddress_tc',\n",
        "               'displayAddress_sc',\n",
        "               'district_tc',\n",
        "               'district_sc',\n",
        "               'contactNo',\n",
        "               'height',\n",
        "               'remark_en',\n",
        "               'remark_tc',\n",
        "               'remark_sc',\n",
        "               'website_en',\n",
        "               'website_tc',\n",
        "               'website_sc',\n",
        "               'carpark_photo'],axis=1)"
      ],
      "execution_count": null,
      "outputs": []
    },
    {
      "cell_type": "code",
      "metadata": {
        "id": "BKucha9hidN8"
      },
      "source": [
        "# check opening_status\n",
        "data_dis['opening_status'].value_counts()"
      ],
      "execution_count": null,
      "outputs": []
    },
    {
      "cell_type": "code",
      "metadata": {
        "id": "_XbrKuTJifir"
      },
      "source": [
        "# drop the rows that are not 'open' or 'Open'\n",
        "data_diso = data_dis[(data_dis['opening_status'] == 'OPEN') | (data_dis['opening_status'] == 'open')]"
      ],
      "execution_count": null,
      "outputs": []
    },
    {
      "cell_type": "code",
      "metadata": {
        "id": "OM2yMz_cihJ8"
      },
      "source": [
        "# drop column 'opening_status' \n",
        "data_geo = data_diso.drop(['opening_status'], axis=1)"
      ],
      "execution_count": null,
      "outputs": []
    },
    {
      "cell_type": "code",
      "metadata": {
        "id": "IqSca-kGiiou"
      },
      "source": [
        "# have a check first how many different catogaries are there\n",
        "len(data_geo['park_id'].unique()) \n",
        "# so all the parks are different "
      ],
      "execution_count": null,
      "outputs": []
    },
    {
      "cell_type": "code",
      "metadata": {
        "id": "ygcokd_EikPU"
      },
      "source": [
        "data_geo['district_en'].value_counts()"
      ],
      "execution_count": null,
      "outputs": []
    },
    {
      "cell_type": "code",
      "metadata": {
        "id": "QBe0QR86imIL"
      },
      "source": [
        "data_geo.to_csv(r'/content/sample_data/Data_Basic.csv', index = False)"
      ],
      "execution_count": null,
      "outputs": []
    }
  ]
}