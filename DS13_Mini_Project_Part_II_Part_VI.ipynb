{
  "nbformat": 4,
  "nbformat_minor": 0,
  "metadata": {
    "colab": {
      "name": "DS13_Mini Project Part II-Part VI.ipynb",
      "provenance": []
    },
    "kernelspec": {
      "name": "python3",
      "display_name": "Python 3"
    },
    "language_info": {
      "name": "python"
    }
  },
  "cells": [
    {
      "cell_type": "markdown",
      "metadata": {
        "id": "aQ1q4zbMXCKv"
      },
      "source": [
        "\n",
        "# **Part II: Feature Engineering**\n",
        "### **Step 1: Import the following libraries**"
      ]
    },
    {
      "cell_type": "code",
      "metadata": {
        "id": "1_drObwD4Dyv"
      },
      "source": [
        "import pandas as pd\n",
        "import matplotlib.pyplot as plt\n",
        "import seaborn as sns"
      ],
      "execution_count": 1,
      "outputs": []
    },
    {
      "cell_type": "markdown",
      "metadata": {
        "id": "eLowXRh4yUCq"
      },
      "source": [
        "### **Step 2: Read the CSV from Part I**\n",
        "We'll now read the CSV that we got from Part I as a DataFrame."
      ]
    },
    {
      "cell_type": "code",
      "metadata": {
        "id": "9SC0sr-x85Bs"
      },
      "source": [
        "Car_df = pd.read_csv(\"/content/Data_Onepark2.csv\")"
      ],
      "execution_count": 2,
      "outputs": []
    },
    {
      "cell_type": "code",
      "metadata": {
        "id": "S6ZvQQBR9q5X",
        "colab": {
          "base_uri": "https://localhost:8080/",
          "height": 419
        },
        "outputId": "0422c879-611b-4590-96c3-d635d94b6d2c"
      },
      "source": [
        "Car_df"
      ],
      "execution_count": 3,
      "outputs": [
        {
          "output_type": "execute_result",
          "data": {
            "text/html": [
              "<div>\n",
              "<style scoped>\n",
              "    .dataframe tbody tr th:only-of-type {\n",
              "        vertical-align: middle;\n",
              "    }\n",
              "\n",
              "    .dataframe tbody tr th {\n",
              "        vertical-align: top;\n",
              "    }\n",
              "\n",
              "    .dataframe thead th {\n",
              "        text-align: right;\n",
              "    }\n",
              "</style>\n",
              "<table border=\"1\" class=\"dataframe\">\n",
              "  <thead>\n",
              "    <tr style=\"text-align: right;\">\n",
              "      <th></th>\n",
              "      <th>vacancy</th>\n",
              "      <th>lastupdate</th>\n",
              "    </tr>\n",
              "  </thead>\n",
              "  <tbody>\n",
              "    <tr>\n",
              "      <th>0</th>\n",
              "      <td>126</td>\n",
              "      <td>2021-04-01 00:13:00</td>\n",
              "    </tr>\n",
              "    <tr>\n",
              "      <th>1</th>\n",
              "      <td>126</td>\n",
              "      <td>2021-04-01 00:27:00</td>\n",
              "    </tr>\n",
              "    <tr>\n",
              "      <th>2</th>\n",
              "      <td>126</td>\n",
              "      <td>2021-04-01 00:43:00</td>\n",
              "    </tr>\n",
              "    <tr>\n",
              "      <th>3</th>\n",
              "      <td>126</td>\n",
              "      <td>2021-04-01 00:57:00</td>\n",
              "    </tr>\n",
              "    <tr>\n",
              "      <th>4</th>\n",
              "      <td>126</td>\n",
              "      <td>2021-04-01 01:11:00</td>\n",
              "    </tr>\n",
              "    <tr>\n",
              "      <th>...</th>\n",
              "      <td>...</td>\n",
              "      <td>...</td>\n",
              "    </tr>\n",
              "    <tr>\n",
              "      <th>6885</th>\n",
              "      <td>96</td>\n",
              "      <td>2021-06-17 09:11:05</td>\n",
              "    </tr>\n",
              "    <tr>\n",
              "      <th>6886</th>\n",
              "      <td>95</td>\n",
              "      <td>2021-06-17 09:27:05</td>\n",
              "    </tr>\n",
              "    <tr>\n",
              "      <th>6887</th>\n",
              "      <td>97</td>\n",
              "      <td>2021-06-17 09:41:05</td>\n",
              "    </tr>\n",
              "    <tr>\n",
              "      <th>6888</th>\n",
              "      <td>90</td>\n",
              "      <td>2021-06-17 09:57:06</td>\n",
              "    </tr>\n",
              "    <tr>\n",
              "      <th>6889</th>\n",
              "      <td>86</td>\n",
              "      <td>2021-06-17 10:11:06</td>\n",
              "    </tr>\n",
              "  </tbody>\n",
              "</table>\n",
              "<p>6890 rows × 2 columns</p>\n",
              "</div>"
            ],
            "text/plain": [
              "      vacancy           lastupdate\n",
              "0         126  2021-04-01 00:13:00\n",
              "1         126  2021-04-01 00:27:00\n",
              "2         126  2021-04-01 00:43:00\n",
              "3         126  2021-04-01 00:57:00\n",
              "4         126  2021-04-01 01:11:00\n",
              "...       ...                  ...\n",
              "6885       96  2021-06-17 09:11:05\n",
              "6886       95  2021-06-17 09:27:05\n",
              "6887       97  2021-06-17 09:41:05\n",
              "6888       90  2021-06-17 09:57:06\n",
              "6889       86  2021-06-17 10:11:06\n",
              "\n",
              "[6890 rows x 2 columns]"
            ]
          },
          "metadata": {
            "tags": []
          },
          "execution_count": 3
        }
      ]
    },
    {
      "cell_type": "code",
      "metadata": {
        "id": "XeygPQ2V-Y-X",
        "colab": {
          "base_uri": "https://localhost:8080/"
        },
        "outputId": "ab04ebfd-33dd-4749-9882-318b745ad268"
      },
      "source": [
        "Car_df.info()"
      ],
      "execution_count": 4,
      "outputs": [
        {
          "output_type": "stream",
          "text": [
            "<class 'pandas.core.frame.DataFrame'>\n",
            "RangeIndex: 6890 entries, 0 to 6889\n",
            "Data columns (total 2 columns):\n",
            " #   Column      Non-Null Count  Dtype \n",
            "---  ------      --------------  ----- \n",
            " 0   vacancy     6890 non-null   int64 \n",
            " 1   lastupdate  6890 non-null   object\n",
            "dtypes: int64(1), object(1)\n",
            "memory usage: 107.8+ KB\n"
          ],
          "name": "stdout"
        }
      ]
    },
    {
      "cell_type": "markdown",
      "metadata": {
        "id": "5R4jDdAtyUDA"
      },
      "source": [
        "### **Step 3: Turn the strings in 'lastupdate' column into a DataTime object**\n",
        "Next, we will get additional information from the \"lastupdate\", i.e. dayofweek, hour, minute. \n"
      ]
    },
    {
      "cell_type": "code",
      "metadata": {
        "id": "oMop_jVpKBCF",
        "colab": {
          "base_uri": "https://localhost:8080/"
        },
        "outputId": "1abbf252-4d1e-4ef7-c9f9-62cdc94083d2"
      },
      "source": [
        "Car_df['lastupdate'] = pd.to_datetime(Car_df['lastupdate'])\n",
        "Car_df['lastupdate'] "
      ],
      "execution_count": 5,
      "outputs": [
        {
          "output_type": "execute_result",
          "data": {
            "text/plain": [
              "0      2021-04-01 00:13:00\n",
              "1      2021-04-01 00:27:00\n",
              "2      2021-04-01 00:43:00\n",
              "3      2021-04-01 00:57:00\n",
              "4      2021-04-01 01:11:00\n",
              "               ...        \n",
              "6885   2021-06-17 09:11:05\n",
              "6886   2021-06-17 09:27:05\n",
              "6887   2021-06-17 09:41:05\n",
              "6888   2021-06-17 09:57:06\n",
              "6889   2021-06-17 10:11:06\n",
              "Name: lastupdate, Length: 6890, dtype: datetime64[ns]"
            ]
          },
          "metadata": {
            "tags": []
          },
          "execution_count": 5
        }
      ]
    },
    {
      "cell_type": "code",
      "metadata": {
        "id": "W4-Wuxv-KUM8",
        "colab": {
          "base_uri": "https://localhost:8080/"
        },
        "outputId": "ffed4c19-b5ce-4b8a-80e0-3538fb6d48c3"
      },
      "source": [
        "Car_df.info()"
      ],
      "execution_count": 6,
      "outputs": [
        {
          "output_type": "stream",
          "text": [
            "<class 'pandas.core.frame.DataFrame'>\n",
            "RangeIndex: 6890 entries, 0 to 6889\n",
            "Data columns (total 2 columns):\n",
            " #   Column      Non-Null Count  Dtype         \n",
            "---  ------      --------------  -----         \n",
            " 0   vacancy     6890 non-null   int64         \n",
            " 1   lastupdate  6890 non-null   datetime64[ns]\n",
            "dtypes: datetime64[ns](1), int64(1)\n",
            "memory usage: 107.8 KB\n"
          ],
          "name": "stdout"
        }
      ]
    },
    {
      "cell_type": "markdown",
      "metadata": {
        "id": "CcwwNY5qbZlC"
      },
      "source": [
        "### **Step 4: Get 'dayofweek', 'minute', and 'hour from 'lastupdate' column**\n",
        "\n",
        "We will be creating new three new columns with:\n",
        "1. day_of_week - day of the week, i.e. 0 (Monday) - 6 (Sunday)\n",
        "2. hour - hour in day\n",
        "3. minute - minute in day"
      ]
    },
    {
      "cell_type": "code",
      "metadata": {
        "id": "fvT5O_hJKV_s"
      },
      "source": [
        "Car_df['Day of Week'] = Car_df['lastupdate'].apply(lambda x:x.dayofweek)\n",
        "Car_df['Hour'] = Car_df['lastupdate'].apply(lambda x:x.hour)\n",
        "Car_df['Minute'] = Car_df['lastupdate'].apply(lambda x:x.minute)"
      ],
      "execution_count": 7,
      "outputs": []
    },
    {
      "cell_type": "code",
      "metadata": {
        "id": "P6Ba4YQ3LP7Y",
        "colab": {
          "base_uri": "https://localhost:8080/",
          "height": 419
        },
        "outputId": "7bf7c4aa-ba15-4fd1-fe79-79178ff2466b"
      },
      "source": [
        "Car_df"
      ],
      "execution_count": 8,
      "outputs": [
        {
          "output_type": "execute_result",
          "data": {
            "text/html": [
              "<div>\n",
              "<style scoped>\n",
              "    .dataframe tbody tr th:only-of-type {\n",
              "        vertical-align: middle;\n",
              "    }\n",
              "\n",
              "    .dataframe tbody tr th {\n",
              "        vertical-align: top;\n",
              "    }\n",
              "\n",
              "    .dataframe thead th {\n",
              "        text-align: right;\n",
              "    }\n",
              "</style>\n",
              "<table border=\"1\" class=\"dataframe\">\n",
              "  <thead>\n",
              "    <tr style=\"text-align: right;\">\n",
              "      <th></th>\n",
              "      <th>vacancy</th>\n",
              "      <th>lastupdate</th>\n",
              "      <th>Day of Week</th>\n",
              "      <th>Hour</th>\n",
              "      <th>Minute</th>\n",
              "    </tr>\n",
              "  </thead>\n",
              "  <tbody>\n",
              "    <tr>\n",
              "      <th>0</th>\n",
              "      <td>126</td>\n",
              "      <td>2021-04-01 00:13:00</td>\n",
              "      <td>3</td>\n",
              "      <td>0</td>\n",
              "      <td>13</td>\n",
              "    </tr>\n",
              "    <tr>\n",
              "      <th>1</th>\n",
              "      <td>126</td>\n",
              "      <td>2021-04-01 00:27:00</td>\n",
              "      <td>3</td>\n",
              "      <td>0</td>\n",
              "      <td>27</td>\n",
              "    </tr>\n",
              "    <tr>\n",
              "      <th>2</th>\n",
              "      <td>126</td>\n",
              "      <td>2021-04-01 00:43:00</td>\n",
              "      <td>3</td>\n",
              "      <td>0</td>\n",
              "      <td>43</td>\n",
              "    </tr>\n",
              "    <tr>\n",
              "      <th>3</th>\n",
              "      <td>126</td>\n",
              "      <td>2021-04-01 00:57:00</td>\n",
              "      <td>3</td>\n",
              "      <td>0</td>\n",
              "      <td>57</td>\n",
              "    </tr>\n",
              "    <tr>\n",
              "      <th>4</th>\n",
              "      <td>126</td>\n",
              "      <td>2021-04-01 01:11:00</td>\n",
              "      <td>3</td>\n",
              "      <td>1</td>\n",
              "      <td>11</td>\n",
              "    </tr>\n",
              "    <tr>\n",
              "      <th>...</th>\n",
              "      <td>...</td>\n",
              "      <td>...</td>\n",
              "      <td>...</td>\n",
              "      <td>...</td>\n",
              "      <td>...</td>\n",
              "    </tr>\n",
              "    <tr>\n",
              "      <th>6885</th>\n",
              "      <td>96</td>\n",
              "      <td>2021-06-17 09:11:05</td>\n",
              "      <td>3</td>\n",
              "      <td>9</td>\n",
              "      <td>11</td>\n",
              "    </tr>\n",
              "    <tr>\n",
              "      <th>6886</th>\n",
              "      <td>95</td>\n",
              "      <td>2021-06-17 09:27:05</td>\n",
              "      <td>3</td>\n",
              "      <td>9</td>\n",
              "      <td>27</td>\n",
              "    </tr>\n",
              "    <tr>\n",
              "      <th>6887</th>\n",
              "      <td>97</td>\n",
              "      <td>2021-06-17 09:41:05</td>\n",
              "      <td>3</td>\n",
              "      <td>9</td>\n",
              "      <td>41</td>\n",
              "    </tr>\n",
              "    <tr>\n",
              "      <th>6888</th>\n",
              "      <td>90</td>\n",
              "      <td>2021-06-17 09:57:06</td>\n",
              "      <td>3</td>\n",
              "      <td>9</td>\n",
              "      <td>57</td>\n",
              "    </tr>\n",
              "    <tr>\n",
              "      <th>6889</th>\n",
              "      <td>86</td>\n",
              "      <td>2021-06-17 10:11:06</td>\n",
              "      <td>3</td>\n",
              "      <td>10</td>\n",
              "      <td>11</td>\n",
              "    </tr>\n",
              "  </tbody>\n",
              "</table>\n",
              "<p>6890 rows × 5 columns</p>\n",
              "</div>"
            ],
            "text/plain": [
              "      vacancy          lastupdate  Day of Week  Hour  Minute\n",
              "0         126 2021-04-01 00:13:00            3     0      13\n",
              "1         126 2021-04-01 00:27:00            3     0      27\n",
              "2         126 2021-04-01 00:43:00            3     0      43\n",
              "3         126 2021-04-01 00:57:00            3     0      57\n",
              "4         126 2021-04-01 01:11:00            3     1      11\n",
              "...       ...                 ...          ...   ...     ...\n",
              "6885       96 2021-06-17 09:11:05            3     9      11\n",
              "6886       95 2021-06-17 09:27:05            3     9      27\n",
              "6887       97 2021-06-17 09:41:05            3     9      41\n",
              "6888       90 2021-06-17 09:57:06            3     9      57\n",
              "6889       86 2021-06-17 10:11:06            3    10      11\n",
              "\n",
              "[6890 rows x 5 columns]"
            ]
          },
          "metadata": {
            "tags": []
          },
          "execution_count": 8
        }
      ]
    },
    {
      "cell_type": "markdown",
      "metadata": {
        "id": "4AZrzBawcA3f"
      },
      "source": [
        "### **Step 5: Form a new feature called 'Holiday' to check whether the given date is a HK public holiday**\n"
      ]
    },
    {
      "cell_type": "code",
      "metadata": {
        "id": "wl-cBJiGQx_2",
        "colab": {
          "base_uri": "https://localhost:8080/"
        },
        "outputId": "2bf39cec-40ee-4415-a2f1-b384637369f4"
      },
      "source": [
        "pip install holidays"
      ],
      "execution_count": 9,
      "outputs": [
        {
          "output_type": "stream",
          "text": [
            "Requirement already satisfied: holidays in /usr/local/lib/python3.7/dist-packages (0.10.5.2)\n",
            "Requirement already satisfied: korean-lunar-calendar in /usr/local/lib/python3.7/dist-packages (from holidays) (0.2.1)\n",
            "Requirement already satisfied: hijri-converter in /usr/local/lib/python3.7/dist-packages (from holidays) (2.1.2)\n",
            "Requirement already satisfied: python-dateutil in /usr/local/lib/python3.7/dist-packages (from holidays) (2.8.1)\n",
            "Requirement already satisfied: six in /usr/local/lib/python3.7/dist-packages (from holidays) (1.15.0)\n",
            "Requirement already satisfied: convertdate>=2.3.0 in /usr/local/lib/python3.7/dist-packages (from holidays) (2.3.2)\n",
            "Requirement already satisfied: pytz>=2014.10 in /usr/local/lib/python3.7/dist-packages (from convertdate>=2.3.0->holidays) (2018.9)\n",
            "Requirement already satisfied: pymeeus<=1,>=0.3.13 in /usr/local/lib/python3.7/dist-packages (from convertdate>=2.3.0->holidays) (0.5.11)\n"
          ],
          "name": "stdout"
        }
      ]
    },
    {
      "cell_type": "code",
      "metadata": {
        "id": "t6559waTRs49"
      },
      "source": [
        "import holidays"
      ],
      "execution_count": 10,
      "outputs": []
    },
    {
      "cell_type": "code",
      "metadata": {
        "id": "_dzg6V9TQ2XN"
      },
      "source": [
        "ho_dates= []\n",
        "\n",
        "for date in holidays.HongKong(years=2021).items():\n",
        "  ho_dates.append(str(date[0]))"
      ],
      "execution_count": 11,
      "outputs": []
    },
    {
      "cell_type": "code",
      "metadata": {
        "id": "mSv2rES0SJal",
        "colab": {
          "base_uri": "https://localhost:8080/"
        },
        "outputId": "24faf5e2-509f-47ce-fe36-7776a4476f16"
      },
      "source": [
        "ho_dates"
      ],
      "execution_count": 12,
      "outputs": [
        {
          "output_type": "execute_result",
          "data": {
            "text/plain": [
              "['2021-01-01',\n",
              " '2021-02-12',\n",
              " '2021-02-13',\n",
              " '2021-02-15',\n",
              " '2021-04-05',\n",
              " '2021-04-02',\n",
              " '2021-04-03',\n",
              " '2021-04-06',\n",
              " '2021-05-19',\n",
              " '2021-05-01',\n",
              " '2021-06-14',\n",
              " '2021-07-01',\n",
              " '2021-09-22',\n",
              " '2021-10-01',\n",
              " '2021-10-14',\n",
              " '2021-12-25',\n",
              " '2021-12-27']"
            ]
          },
          "metadata": {
            "tags": []
          },
          "execution_count": 12
        }
      ]
    },
    {
      "cell_type": "code",
      "metadata": {
        "id": "Tpl6SNTwVGh0"
      },
      "source": [
        "Boolean_holiday =[]\n",
        "\n",
        "for i, d in enumerate(Car_df['lastupdate']):\n",
        "  if str(d.date()) in ho_dates: Boolean_holiday.append(1)\n",
        "  else: Boolean_holiday.append(0)"
      ],
      "execution_count": 13,
      "outputs": []
    },
    {
      "cell_type": "code",
      "metadata": {
        "id": "FKVvAodBW-Hy"
      },
      "source": [
        "Car_df['Holiday'] = Boolean_holiday"
      ],
      "execution_count": 14,
      "outputs": []
    },
    {
      "cell_type": "code",
      "metadata": {
        "id": "G49HtpMBT8Ru",
        "colab": {
          "base_uri": "https://localhost:8080/",
          "height": 419
        },
        "outputId": "8456676c-48eb-433b-d4cb-c13ea05f35bd"
      },
      "source": [
        "Car_df"
      ],
      "execution_count": 15,
      "outputs": [
        {
          "output_type": "execute_result",
          "data": {
            "text/html": [
              "<div>\n",
              "<style scoped>\n",
              "    .dataframe tbody tr th:only-of-type {\n",
              "        vertical-align: middle;\n",
              "    }\n",
              "\n",
              "    .dataframe tbody tr th {\n",
              "        vertical-align: top;\n",
              "    }\n",
              "\n",
              "    .dataframe thead th {\n",
              "        text-align: right;\n",
              "    }\n",
              "</style>\n",
              "<table border=\"1\" class=\"dataframe\">\n",
              "  <thead>\n",
              "    <tr style=\"text-align: right;\">\n",
              "      <th></th>\n",
              "      <th>vacancy</th>\n",
              "      <th>lastupdate</th>\n",
              "      <th>Day of Week</th>\n",
              "      <th>Hour</th>\n",
              "      <th>Minute</th>\n",
              "      <th>Holiday</th>\n",
              "    </tr>\n",
              "  </thead>\n",
              "  <tbody>\n",
              "    <tr>\n",
              "      <th>0</th>\n",
              "      <td>126</td>\n",
              "      <td>2021-04-01 00:13:00</td>\n",
              "      <td>3</td>\n",
              "      <td>0</td>\n",
              "      <td>13</td>\n",
              "      <td>0</td>\n",
              "    </tr>\n",
              "    <tr>\n",
              "      <th>1</th>\n",
              "      <td>126</td>\n",
              "      <td>2021-04-01 00:27:00</td>\n",
              "      <td>3</td>\n",
              "      <td>0</td>\n",
              "      <td>27</td>\n",
              "      <td>0</td>\n",
              "    </tr>\n",
              "    <tr>\n",
              "      <th>2</th>\n",
              "      <td>126</td>\n",
              "      <td>2021-04-01 00:43:00</td>\n",
              "      <td>3</td>\n",
              "      <td>0</td>\n",
              "      <td>43</td>\n",
              "      <td>0</td>\n",
              "    </tr>\n",
              "    <tr>\n",
              "      <th>3</th>\n",
              "      <td>126</td>\n",
              "      <td>2021-04-01 00:57:00</td>\n",
              "      <td>3</td>\n",
              "      <td>0</td>\n",
              "      <td>57</td>\n",
              "      <td>0</td>\n",
              "    </tr>\n",
              "    <tr>\n",
              "      <th>4</th>\n",
              "      <td>126</td>\n",
              "      <td>2021-04-01 01:11:00</td>\n",
              "      <td>3</td>\n",
              "      <td>1</td>\n",
              "      <td>11</td>\n",
              "      <td>0</td>\n",
              "    </tr>\n",
              "    <tr>\n",
              "      <th>...</th>\n",
              "      <td>...</td>\n",
              "      <td>...</td>\n",
              "      <td>...</td>\n",
              "      <td>...</td>\n",
              "      <td>...</td>\n",
              "      <td>...</td>\n",
              "    </tr>\n",
              "    <tr>\n",
              "      <th>6885</th>\n",
              "      <td>96</td>\n",
              "      <td>2021-06-17 09:11:05</td>\n",
              "      <td>3</td>\n",
              "      <td>9</td>\n",
              "      <td>11</td>\n",
              "      <td>0</td>\n",
              "    </tr>\n",
              "    <tr>\n",
              "      <th>6886</th>\n",
              "      <td>95</td>\n",
              "      <td>2021-06-17 09:27:05</td>\n",
              "      <td>3</td>\n",
              "      <td>9</td>\n",
              "      <td>27</td>\n",
              "      <td>0</td>\n",
              "    </tr>\n",
              "    <tr>\n",
              "      <th>6887</th>\n",
              "      <td>97</td>\n",
              "      <td>2021-06-17 09:41:05</td>\n",
              "      <td>3</td>\n",
              "      <td>9</td>\n",
              "      <td>41</td>\n",
              "      <td>0</td>\n",
              "    </tr>\n",
              "    <tr>\n",
              "      <th>6888</th>\n",
              "      <td>90</td>\n",
              "      <td>2021-06-17 09:57:06</td>\n",
              "      <td>3</td>\n",
              "      <td>9</td>\n",
              "      <td>57</td>\n",
              "      <td>0</td>\n",
              "    </tr>\n",
              "    <tr>\n",
              "      <th>6889</th>\n",
              "      <td>86</td>\n",
              "      <td>2021-06-17 10:11:06</td>\n",
              "      <td>3</td>\n",
              "      <td>10</td>\n",
              "      <td>11</td>\n",
              "      <td>0</td>\n",
              "    </tr>\n",
              "  </tbody>\n",
              "</table>\n",
              "<p>6890 rows × 6 columns</p>\n",
              "</div>"
            ],
            "text/plain": [
              "      vacancy          lastupdate  Day of Week  Hour  Minute  Holiday\n",
              "0         126 2021-04-01 00:13:00            3     0      13        0\n",
              "1         126 2021-04-01 00:27:00            3     0      27        0\n",
              "2         126 2021-04-01 00:43:00            3     0      43        0\n",
              "3         126 2021-04-01 00:57:00            3     0      57        0\n",
              "4         126 2021-04-01 01:11:00            3     1      11        0\n",
              "...       ...                 ...          ...   ...     ...      ...\n",
              "6885       96 2021-06-17 09:11:05            3     9      11        0\n",
              "6886       95 2021-06-17 09:27:05            3     9      27        0\n",
              "6887       97 2021-06-17 09:41:05            3     9      41        0\n",
              "6888       90 2021-06-17 09:57:06            3     9      57        0\n",
              "6889       86 2021-06-17 10:11:06            3    10      11        0\n",
              "\n",
              "[6890 rows x 6 columns]"
            ]
          },
          "metadata": {
            "tags": []
          },
          "execution_count": 15
        }
      ]
    },
    {
      "cell_type": "code",
      "metadata": {
        "colab": {
          "base_uri": "https://localhost:8080/",
          "height": 419
        },
        "id": "07a7BErVEGWh",
        "outputId": "eaa58527-d465-4908-c95a-2381907249eb"
      },
      "source": [
        "Car_df[Car_df['Holiday']==1]"
      ],
      "execution_count": 16,
      "outputs": [
        {
          "output_type": "execute_result",
          "data": {
            "text/html": [
              "<div>\n",
              "<style scoped>\n",
              "    .dataframe tbody tr th:only-of-type {\n",
              "        vertical-align: middle;\n",
              "    }\n",
              "\n",
              "    .dataframe tbody tr th {\n",
              "        vertical-align: top;\n",
              "    }\n",
              "\n",
              "    .dataframe thead th {\n",
              "        text-align: right;\n",
              "    }\n",
              "</style>\n",
              "<table border=\"1\" class=\"dataframe\">\n",
              "  <thead>\n",
              "    <tr style=\"text-align: right;\">\n",
              "      <th></th>\n",
              "      <th>vacancy</th>\n",
              "      <th>lastupdate</th>\n",
              "      <th>Day of Week</th>\n",
              "      <th>Hour</th>\n",
              "      <th>Minute</th>\n",
              "      <th>Holiday</th>\n",
              "    </tr>\n",
              "  </thead>\n",
              "  <tbody>\n",
              "    <tr>\n",
              "      <th>95</th>\n",
              "      <td>124</td>\n",
              "      <td>2021-04-02 00:13:00</td>\n",
              "      <td>4</td>\n",
              "      <td>0</td>\n",
              "      <td>13</td>\n",
              "      <td>1</td>\n",
              "    </tr>\n",
              "    <tr>\n",
              "      <th>96</th>\n",
              "      <td>126</td>\n",
              "      <td>2021-04-02 00:27:00</td>\n",
              "      <td>4</td>\n",
              "      <td>0</td>\n",
              "      <td>27</td>\n",
              "      <td>1</td>\n",
              "    </tr>\n",
              "    <tr>\n",
              "      <th>97</th>\n",
              "      <td>127</td>\n",
              "      <td>2021-04-02 00:41:00</td>\n",
              "      <td>4</td>\n",
              "      <td>0</td>\n",
              "      <td>41</td>\n",
              "      <td>1</td>\n",
              "    </tr>\n",
              "    <tr>\n",
              "      <th>98</th>\n",
              "      <td>127</td>\n",
              "      <td>2021-04-02 00:57:00</td>\n",
              "      <td>4</td>\n",
              "      <td>0</td>\n",
              "      <td>57</td>\n",
              "      <td>1</td>\n",
              "    </tr>\n",
              "    <tr>\n",
              "      <th>99</th>\n",
              "      <td>127</td>\n",
              "      <td>2021-04-02 01:11:00</td>\n",
              "      <td>4</td>\n",
              "      <td>1</td>\n",
              "      <td>11</td>\n",
              "      <td>1</td>\n",
              "    </tr>\n",
              "    <tr>\n",
              "      <th>...</th>\n",
              "      <td>...</td>\n",
              "      <td>...</td>\n",
              "      <td>...</td>\n",
              "      <td>...</td>\n",
              "      <td>...</td>\n",
              "      <td>...</td>\n",
              "    </tr>\n",
              "    <tr>\n",
              "      <th>6653</th>\n",
              "      <td>121</td>\n",
              "      <td>2021-06-14 22:57:05</td>\n",
              "      <td>0</td>\n",
              "      <td>22</td>\n",
              "      <td>57</td>\n",
              "      <td>1</td>\n",
              "    </tr>\n",
              "    <tr>\n",
              "      <th>6654</th>\n",
              "      <td>122</td>\n",
              "      <td>2021-06-14 23:11:04</td>\n",
              "      <td>0</td>\n",
              "      <td>23</td>\n",
              "      <td>11</td>\n",
              "      <td>1</td>\n",
              "    </tr>\n",
              "    <tr>\n",
              "      <th>6655</th>\n",
              "      <td>123</td>\n",
              "      <td>2021-06-14 23:27:05</td>\n",
              "      <td>0</td>\n",
              "      <td>23</td>\n",
              "      <td>27</td>\n",
              "      <td>1</td>\n",
              "    </tr>\n",
              "    <tr>\n",
              "      <th>6656</th>\n",
              "      <td>125</td>\n",
              "      <td>2021-06-14 23:43:05</td>\n",
              "      <td>0</td>\n",
              "      <td>23</td>\n",
              "      <td>43</td>\n",
              "      <td>1</td>\n",
              "    </tr>\n",
              "    <tr>\n",
              "      <th>6657</th>\n",
              "      <td>125</td>\n",
              "      <td>2021-06-14 23:57:04</td>\n",
              "      <td>0</td>\n",
              "      <td>23</td>\n",
              "      <td>57</td>\n",
              "      <td>1</td>\n",
              "    </tr>\n",
              "  </tbody>\n",
              "</table>\n",
              "<p>655 rows × 6 columns</p>\n",
              "</div>"
            ],
            "text/plain": [
              "      vacancy          lastupdate  Day of Week  Hour  Minute  Holiday\n",
              "95        124 2021-04-02 00:13:00            4     0      13        1\n",
              "96        126 2021-04-02 00:27:00            4     0      27        1\n",
              "97        127 2021-04-02 00:41:00            4     0      41        1\n",
              "98        127 2021-04-02 00:57:00            4     0      57        1\n",
              "99        127 2021-04-02 01:11:00            4     1      11        1\n",
              "...       ...                 ...          ...   ...     ...      ...\n",
              "6653      121 2021-06-14 22:57:05            0    22      57        1\n",
              "6654      122 2021-06-14 23:11:04            0    23      11        1\n",
              "6655      123 2021-06-14 23:27:05            0    23      27        1\n",
              "6656      125 2021-06-14 23:43:05            0    23      43        1\n",
              "6657      125 2021-06-14 23:57:04            0    23      57        1\n",
              "\n",
              "[655 rows x 6 columns]"
            ]
          },
          "metadata": {
            "tags": []
          },
          "execution_count": 16
        }
      ]
    },
    {
      "cell_type": "markdown",
      "metadata": {
        "id": "cDAgWuEyyUDK"
      },
      "source": [
        "### **Step 6: Check if there's any missing data**\n"
      ]
    },
    {
      "cell_type": "code",
      "metadata": {
        "id": "jxlNobTzJLeh",
        "colab": {
          "base_uri": "https://localhost:8080/"
        },
        "outputId": "cd8b00b4-bae1-4c55-cd2d-56ec464b0bfe"
      },
      "source": [
        "Car_df.isnull().sum()"
      ],
      "execution_count": 17,
      "outputs": [
        {
          "output_type": "execute_result",
          "data": {
            "text/plain": [
              "vacancy        0\n",
              "lastupdate     0\n",
              "Day of Week    0\n",
              "Hour           0\n",
              "Minute         0\n",
              "Holiday        0\n",
              "dtype: int64"
            ]
          },
          "metadata": {
            "tags": []
          },
          "execution_count": 17
        }
      ]
    },
    {
      "cell_type": "markdown",
      "metadata": {
        "id": "adXOwwMqdrtT"
      },
      "source": [
        "### **Step 7: Export our DataFrame as CSV for next part (if needed)**\n"
      ]
    },
    {
      "cell_type": "code",
      "metadata": {
        "id": "-rANSa1TeAkx"
      },
      "source": [
        "Car_df.to_csv(\"Car_df_part2.csv\",index=False)"
      ],
      "execution_count": 18,
      "outputs": []
    },
    {
      "cell_type": "markdown",
      "metadata": {
        "id": "9L_wGKaCi5NA"
      },
      "source": [
        "\n",
        "# **Part III: Exploratory Data Analysis (EDA) and Visualization**\n",
        "### **Step 1: Import libraries needed for visualization**"
      ]
    },
    {
      "cell_type": "code",
      "metadata": {
        "id": "cgN03EBrjdxx"
      },
      "source": [
        "import matplotlib.pyplot as plt\n",
        "import seaborn as sns"
      ],
      "execution_count": 19,
      "outputs": []
    },
    {
      "cell_type": "code",
      "metadata": {
        "id": "HF91NGbGK4g3"
      },
      "source": [
        "Car_df.set_index('lastupdate', inplace = True)"
      ],
      "execution_count": 20,
      "outputs": []
    },
    {
      "cell_type": "code",
      "metadata": {
        "id": "Lv4QqtWGLLUc",
        "colab": {
          "base_uri": "https://localhost:8080/",
          "height": 450
        },
        "outputId": "5964ad85-346e-485c-ed6f-0fc98f83f5e4"
      },
      "source": [
        "Car_df"
      ],
      "execution_count": 21,
      "outputs": [
        {
          "output_type": "execute_result",
          "data": {
            "text/html": [
              "<div>\n",
              "<style scoped>\n",
              "    .dataframe tbody tr th:only-of-type {\n",
              "        vertical-align: middle;\n",
              "    }\n",
              "\n",
              "    .dataframe tbody tr th {\n",
              "        vertical-align: top;\n",
              "    }\n",
              "\n",
              "    .dataframe thead th {\n",
              "        text-align: right;\n",
              "    }\n",
              "</style>\n",
              "<table border=\"1\" class=\"dataframe\">\n",
              "  <thead>\n",
              "    <tr style=\"text-align: right;\">\n",
              "      <th></th>\n",
              "      <th>vacancy</th>\n",
              "      <th>Day of Week</th>\n",
              "      <th>Hour</th>\n",
              "      <th>Minute</th>\n",
              "      <th>Holiday</th>\n",
              "    </tr>\n",
              "    <tr>\n",
              "      <th>lastupdate</th>\n",
              "      <th></th>\n",
              "      <th></th>\n",
              "      <th></th>\n",
              "      <th></th>\n",
              "      <th></th>\n",
              "    </tr>\n",
              "  </thead>\n",
              "  <tbody>\n",
              "    <tr>\n",
              "      <th>2021-04-01 00:13:00</th>\n",
              "      <td>126</td>\n",
              "      <td>3</td>\n",
              "      <td>0</td>\n",
              "      <td>13</td>\n",
              "      <td>0</td>\n",
              "    </tr>\n",
              "    <tr>\n",
              "      <th>2021-04-01 00:27:00</th>\n",
              "      <td>126</td>\n",
              "      <td>3</td>\n",
              "      <td>0</td>\n",
              "      <td>27</td>\n",
              "      <td>0</td>\n",
              "    </tr>\n",
              "    <tr>\n",
              "      <th>2021-04-01 00:43:00</th>\n",
              "      <td>126</td>\n",
              "      <td>3</td>\n",
              "      <td>0</td>\n",
              "      <td>43</td>\n",
              "      <td>0</td>\n",
              "    </tr>\n",
              "    <tr>\n",
              "      <th>2021-04-01 00:57:00</th>\n",
              "      <td>126</td>\n",
              "      <td>3</td>\n",
              "      <td>0</td>\n",
              "      <td>57</td>\n",
              "      <td>0</td>\n",
              "    </tr>\n",
              "    <tr>\n",
              "      <th>2021-04-01 01:11:00</th>\n",
              "      <td>126</td>\n",
              "      <td>3</td>\n",
              "      <td>1</td>\n",
              "      <td>11</td>\n",
              "      <td>0</td>\n",
              "    </tr>\n",
              "    <tr>\n",
              "      <th>...</th>\n",
              "      <td>...</td>\n",
              "      <td>...</td>\n",
              "      <td>...</td>\n",
              "      <td>...</td>\n",
              "      <td>...</td>\n",
              "    </tr>\n",
              "    <tr>\n",
              "      <th>2021-06-17 09:11:05</th>\n",
              "      <td>96</td>\n",
              "      <td>3</td>\n",
              "      <td>9</td>\n",
              "      <td>11</td>\n",
              "      <td>0</td>\n",
              "    </tr>\n",
              "    <tr>\n",
              "      <th>2021-06-17 09:27:05</th>\n",
              "      <td>95</td>\n",
              "      <td>3</td>\n",
              "      <td>9</td>\n",
              "      <td>27</td>\n",
              "      <td>0</td>\n",
              "    </tr>\n",
              "    <tr>\n",
              "      <th>2021-06-17 09:41:05</th>\n",
              "      <td>97</td>\n",
              "      <td>3</td>\n",
              "      <td>9</td>\n",
              "      <td>41</td>\n",
              "      <td>0</td>\n",
              "    </tr>\n",
              "    <tr>\n",
              "      <th>2021-06-17 09:57:06</th>\n",
              "      <td>90</td>\n",
              "      <td>3</td>\n",
              "      <td>9</td>\n",
              "      <td>57</td>\n",
              "      <td>0</td>\n",
              "    </tr>\n",
              "    <tr>\n",
              "      <th>2021-06-17 10:11:06</th>\n",
              "      <td>86</td>\n",
              "      <td>3</td>\n",
              "      <td>10</td>\n",
              "      <td>11</td>\n",
              "      <td>0</td>\n",
              "    </tr>\n",
              "  </tbody>\n",
              "</table>\n",
              "<p>6890 rows × 5 columns</p>\n",
              "</div>"
            ],
            "text/plain": [
              "                     vacancy  Day of Week  Hour  Minute  Holiday\n",
              "lastupdate                                                      \n",
              "2021-04-01 00:13:00      126            3     0      13        0\n",
              "2021-04-01 00:27:00      126            3     0      27        0\n",
              "2021-04-01 00:43:00      126            3     0      43        0\n",
              "2021-04-01 00:57:00      126            3     0      57        0\n",
              "2021-04-01 01:11:00      126            3     1      11        0\n",
              "...                      ...          ...   ...     ...      ...\n",
              "2021-06-17 09:11:05       96            3     9      11        0\n",
              "2021-06-17 09:27:05       95            3     9      27        0\n",
              "2021-06-17 09:41:05       97            3     9      41        0\n",
              "2021-06-17 09:57:06       90            3     9      57        0\n",
              "2021-06-17 10:11:06       86            3    10      11        0\n",
              "\n",
              "[6890 rows x 5 columns]"
            ]
          },
          "metadata": {
            "tags": []
          },
          "execution_count": 21
        }
      ]
    },
    {
      "cell_type": "markdown",
      "metadata": {
        "id": "OUdS9JHykYjh"
      },
      "source": [
        "### **Step 2: Plot 'Vacancy vs Time'**\n"
      ]
    },
    {
      "cell_type": "code",
      "metadata": {
        "id": "0kgEzQLwkD15",
        "colab": {
          "base_uri": "https://localhost:8080/",
          "height": 478
        },
        "outputId": "a740a621-7183-44dc-f4b3-7292664b1346"
      },
      "source": [
        "# Step 3: Plot vacancy vs time\n",
        "fig = plt.figure(figsize= (18,8))\n",
        "plt.plot(Car_df[\"vacancy\"])\n",
        "plt.xlabel(\"Time\")\n",
        "plt.ylabel(\"Vacancy count\")\n",
        "plt.title(\"Lee Garden One Car Park Vacancy vs Time\")\n",
        "fig.autofmt_xdate()\n",
        "# save figure\n",
        "fig.savefig('Vacancy to time.eps')"
      ],
      "execution_count": 22,
      "outputs": [
        {
          "output_type": "display_data",
          "data": {
            "image/png": "[encoded data removed]",
            "text/plain": [
              "<Figure size 1296x576 with 1 Axes>"
            ]
          },
          "metadata": {
            "tags": [],
            "needs_background": "light"
          }
        }
      ]
    },
    {
      "cell_type": "markdown",
      "metadata": {
        "id": "O0oTOOhnqXix"
      },
      "source": [
        "### **Step 3: Group by Day of week, Hour and Minute**\n"
      ]
    },
    {
      "cell_type": "code",
      "metadata": {
        "id": "k_-2ikKeqz3V",
        "colab": {
          "base_uri": "https://localhost:8080/"
        },
        "outputId": "92d0ec41-d624-4e22-fbb5-e676e511d877"
      },
      "source": [
        "Car_df.groupby(['Day of Week','Hour'])['vacancy'].sum()"
      ],
      "execution_count": 23,
      "outputs": [
        {
          "output_type": "execute_result",
          "data": {
            "text/plain": [
              "Day of Week  Hour\n",
              "0            0       5583\n",
              "             1       5590\n",
              "             2       5595\n",
              "             3       5596\n",
              "             4       5322\n",
              "                     ... \n",
              "6            19        51\n",
              "             20      1188\n",
              "             21      3611\n",
              "             22      5279\n",
              "             23      5638\n",
              "Name: vacancy, Length: 168, dtype: int64"
            ]
          },
          "metadata": {
            "tags": []
          },
          "execution_count": 23
        }
      ]
    },
    {
      "cell_type": "code",
      "metadata": {
        "id": "08-kRxsOq5nC",
        "colab": {
          "base_uri": "https://localhost:8080/"
        },
        "outputId": "0c4e5764-a342-4a92-a3be-95669d3b19df"
      },
      "source": [
        "Car_df[Car_df['Day of Week']==5].groupby(['Day of Week','Hour'])['vacancy'].sum()"
      ],
      "execution_count": 24,
      "outputs": [
        {
          "output_type": "execute_result",
          "data": {
            "text/plain": [
              "Day of Week  Hour\n",
              "5            0       5801\n",
              "             1       5848\n",
              "             2       5995\n",
              "             3       5997\n",
              "             4       5717\n",
              "             5       6000\n",
              "             6       6000\n",
              "             7       5962\n",
              "             8       5749\n",
              "             9       4930\n",
              "             10      3492\n",
              "             11      1807\n",
              "             12       168\n",
              "             13        29\n",
              "             14       190\n",
              "             15       502\n",
              "             16       584\n",
              "             17      1075\n",
              "             18       888\n",
              "             19       178\n",
              "             20       841\n",
              "             21      3096\n",
              "             22      5127\n",
              "             23      5476\n",
              "Name: vacancy, dtype: int64"
            ]
          },
          "metadata": {
            "tags": []
          },
          "execution_count": 24
        }
      ]
    },
    {
      "cell_type": "code",
      "metadata": {
        "id": "FtcME06qq_x8",
        "colab": {
          "base_uri": "https://localhost:8080/"
        },
        "outputId": "78e4bf25-ea95-45bd-a426-58a70c15dd82"
      },
      "source": [
        "Car_df.groupby(['Minute'])['vacancy'].sum()"
      ],
      "execution_count": 25,
      "outputs": [
        {
          "output_type": "execute_result",
          "data": {
            "text/plain": [
              "Minute\n",
              "9        272\n",
              "11     72030\n",
              "12     12745\n",
              "13     57090\n",
              "25      1625\n",
              "26      8824\n",
              "27    130569\n",
              "28      2184\n",
              "40       104\n",
              "41     77072\n",
              "42     12900\n",
              "43     51885\n",
              "55       978\n",
              "56      9851\n",
              "57    128224\n",
              "58      3479\n",
              "Name: vacancy, dtype: int64"
            ]
          },
          "metadata": {
            "tags": []
          },
          "execution_count": 25
        }
      ]
    },
    {
      "cell_type": "markdown",
      "metadata": {
        "id": "ZKbrXxvVrlV7"
      },
      "source": [
        "### **Step 4: Factorplot of 'Vacancy' vs 'Day of week'**\n"
      ]
    },
    {
      "cell_type": "code",
      "metadata": {
        "id": "bL1TTnB5rYiK",
        "colab": {
          "base_uri": "https://localhost:8080/",
          "height": 454
        },
        "outputId": "d6b8f985-0050-4ec2-ce9f-48f44399b645"
      },
      "source": [
        "sns.factorplot(data= Car_df, y=\"vacancy\",x=\"Day of Week\")\n"
      ],
      "execution_count": 26,
      "outputs": [
        {
          "output_type": "stream",
          "text": [
            "/usr/local/lib/python3.7/dist-packages/seaborn/categorical.py:3714: UserWarning: The `factorplot` function has been renamed to `catplot`. The original name will be removed in a future release. Please update your code. Note that the default `kind` in `factorplot` (`'point'`) has changed `'strip'` in `catplot`.\n",
            "  warnings.warn(msg)\n"
          ],
          "name": "stderr"
        },
        {
          "output_type": "execute_result",
          "data": {
            "text/plain": [
              "<seaborn.axisgrid.FacetGrid at 0x7f4a88d47f50>"
            ]
          },
          "metadata": {
            "tags": []
          },
          "execution_count": 26
        },
        {
          "output_type": "display_data",
          "data": {
            "image/png": "[encoded data removed]",
            "text/plain": [
              "<Figure size 360x360 with 1 Axes>"
            ]
          },
          "metadata": {
            "tags": [],
            "needs_background": "light"
          }
        }
      ]
    },
    {
      "cell_type": "markdown",
      "metadata": {
        "id": "LOwz5WDqr_TF"
      },
      "source": [
        "### **Step 5: Factorplot of 'Vacancy' vs 'Hour'**\n"
      ]
    },
    {
      "cell_type": "code",
      "metadata": {
        "id": "pprBTpXrsHfC",
        "colab": {
          "base_uri": "https://localhost:8080/",
          "height": 454
        },
        "outputId": "c12e7dbe-cd1c-4e8f-cddc-252b88ed14c7"
      },
      "source": [
        "sns.factorplot(data= Car_df, y=\"vacancy\",x=\"Hour\")"
      ],
      "execution_count": 27,
      "outputs": [
        {
          "output_type": "stream",
          "text": [
            "/usr/local/lib/python3.7/dist-packages/seaborn/categorical.py:3714: UserWarning: The `factorplot` function has been renamed to `catplot`. The original name will be removed in a future release. Please update your code. Note that the default `kind` in `factorplot` (`'point'`) has changed `'strip'` in `catplot`.\n",
            "  warnings.warn(msg)\n"
          ],
          "name": "stderr"
        },
        {
          "output_type": "execute_result",
          "data": {
            "text/plain": [
              "<seaborn.axisgrid.FacetGrid at 0x7f4a7e2888d0>"
            ]
          },
          "metadata": {
            "tags": []
          },
          "execution_count": 27
        },
        {
          "output_type": "display_data",
          "data": {
            "image/png": "[encoded data removed]",
            "text/plain": [
              "<Figure size 360x360 with 1 Axes>"
            ]
          },
          "metadata": {
            "tags": [],
            "needs_background": "light"
          }
        }
      ]
    },
    {
      "cell_type": "markdown",
      "metadata": {
        "id": "wnr09qputg4k"
      },
      "source": [
        "### **Step 6: Factorplot of 'Vacancy' vs 'Minute'**\n"
      ]
    },
    {
      "cell_type": "code",
      "metadata": {
        "id": "FNH4lgMTtb6r",
        "colab": {
          "base_uri": "https://localhost:8080/",
          "height": 454
        },
        "outputId": "6deecb04-44be-474c-fa88-d7ac30dedc7f"
      },
      "source": [
        "sns.factorplot(data= Car_df, y=\"vacancy\",x=\"Minute\")"
      ],
      "execution_count": 28,
      "outputs": [
        {
          "output_type": "stream",
          "text": [
            "/usr/local/lib/python3.7/dist-packages/seaborn/categorical.py:3714: UserWarning: The `factorplot` function has been renamed to `catplot`. The original name will be removed in a future release. Please update your code. Note that the default `kind` in `factorplot` (`'point'`) has changed `'strip'` in `catplot`.\n",
            "  warnings.warn(msg)\n"
          ],
          "name": "stderr"
        },
        {
          "output_type": "execute_result",
          "data": {
            "text/plain": [
              "<seaborn.axisgrid.FacetGrid at 0x7f4a7e183350>"
            ]
          },
          "metadata": {
            "tags": []
          },
          "execution_count": 28
        },
        {
          "output_type": "display_data",
          "data": {
            "image/png": "[encoded data removed]",
            "text/plain": [
              "<Figure size 360x360 with 1 Axes>"
            ]
          },
          "metadata": {
            "tags": [],
            "needs_background": "light"
          }
        }
      ]
    },
    {
      "cell_type": "markdown",
      "metadata": {
        "id": "jpmZ5_pLw1GH"
      },
      "source": [
        "### **Step 7: Factorplot of 'Holiday' vs 'Minute'**"
      ]
    },
    {
      "cell_type": "code",
      "metadata": {
        "id": "ebBZPZVBxDwZ",
        "colab": {
          "base_uri": "https://localhost:8080/",
          "height": 454
        },
        "outputId": "4ceaed74-b59c-4a41-a421-3aed533ad66c"
      },
      "source": [
        "sns.factorplot(data= Car_df, y=\"vacancy\",x=\"Holiday\")"
      ],
      "execution_count": 29,
      "outputs": [
        {
          "output_type": "stream",
          "text": [
            "/usr/local/lib/python3.7/dist-packages/seaborn/categorical.py:3714: UserWarning: The `factorplot` function has been renamed to `catplot`. The original name will be removed in a future release. Please update your code. Note that the default `kind` in `factorplot` (`'point'`) has changed `'strip'` in `catplot`.\n",
            "  warnings.warn(msg)\n"
          ],
          "name": "stderr"
        },
        {
          "output_type": "execute_result",
          "data": {
            "text/plain": [
              "<seaborn.axisgrid.FacetGrid at 0x7f4a7e17eed0>"
            ]
          },
          "metadata": {
            "tags": []
          },
          "execution_count": 29
        },
        {
          "output_type": "display_data",
          "data": {
            "image/png": "[encoded data removed]",
            "text/plain": [
              "<Figure size 360x360 with 1 Axes>"
            ]
          },
          "metadata": {
            "tags": [],
            "needs_background": "light"
          }
        }
      ]
    },
    {
      "cell_type": "markdown",
      "metadata": {
        "id": "ed-imlKUulZB"
      },
      "source": [
        "### **Step 8: Correlation analysis**\n"
      ]
    },
    {
      "cell_type": "code",
      "metadata": {
        "id": "EcfbbfFduvWj",
        "colab": {
          "base_uri": "https://localhost:8080/",
          "height": 204
        },
        "outputId": "ed548fb4-8ac6-41ce-fe91-ffaa50640774"
      },
      "source": [
        "Car_df.corr()"
      ],
      "execution_count": 30,
      "outputs": [
        {
          "output_type": "execute_result",
          "data": {
            "text/html": [
              "<div>\n",
              "<style scoped>\n",
              "    .dataframe tbody tr th:only-of-type {\n",
              "        vertical-align: middle;\n",
              "    }\n",
              "\n",
              "    .dataframe tbody tr th {\n",
              "        vertical-align: top;\n",
              "    }\n",
              "\n",
              "    .dataframe thead th {\n",
              "        text-align: right;\n",
              "    }\n",
              "</style>\n",
              "<table border=\"1\" class=\"dataframe\">\n",
              "  <thead>\n",
              "    <tr style=\"text-align: right;\">\n",
              "      <th></th>\n",
              "      <th>vacancy</th>\n",
              "      <th>Day of Week</th>\n",
              "      <th>Hour</th>\n",
              "      <th>Minute</th>\n",
              "      <th>Holiday</th>\n",
              "    </tr>\n",
              "  </thead>\n",
              "  <tbody>\n",
              "    <tr>\n",
              "      <th>vacancy</th>\n",
              "      <td>1.000000</td>\n",
              "      <td>-0.040821</td>\n",
              "      <td>-0.547996</td>\n",
              "      <td>-0.004019</td>\n",
              "      <td>-0.000330</td>\n",
              "    </tr>\n",
              "    <tr>\n",
              "      <th>Day of Week</th>\n",
              "      <td>-0.040821</td>\n",
              "      <td>1.000000</td>\n",
              "      <td>-0.004517</td>\n",
              "      <td>-0.002097</td>\n",
              "      <td>-0.096259</td>\n",
              "    </tr>\n",
              "    <tr>\n",
              "      <th>Hour</th>\n",
              "      <td>-0.547996</td>\n",
              "      <td>-0.004517</td>\n",
              "      <td>1.000000</td>\n",
              "      <td>0.003886</td>\n",
              "      <td>0.004524</td>\n",
              "    </tr>\n",
              "    <tr>\n",
              "      <th>Minute</th>\n",
              "      <td>-0.004019</td>\n",
              "      <td>-0.002097</td>\n",
              "      <td>0.003886</td>\n",
              "      <td>1.000000</td>\n",
              "      <td>0.002107</td>\n",
              "    </tr>\n",
              "    <tr>\n",
              "      <th>Holiday</th>\n",
              "      <td>-0.000330</td>\n",
              "      <td>-0.096259</td>\n",
              "      <td>0.004524</td>\n",
              "      <td>0.002107</td>\n",
              "      <td>1.000000</td>\n",
              "    </tr>\n",
              "  </tbody>\n",
              "</table>\n",
              "</div>"
            ],
            "text/plain": [
              "              vacancy  Day of Week      Hour    Minute   Holiday\n",
              "vacancy      1.000000    -0.040821 -0.547996 -0.004019 -0.000330\n",
              "Day of Week -0.040821     1.000000 -0.004517 -0.002097 -0.096259\n",
              "Hour        -0.547996    -0.004517  1.000000  0.003886  0.004524\n",
              "Minute      -0.004019    -0.002097  0.003886  1.000000  0.002107\n",
              "Holiday     -0.000330    -0.096259  0.004524  0.002107  1.000000"
            ]
          },
          "metadata": {
            "tags": []
          },
          "execution_count": 30
        }
      ]
    },
    {
      "cell_type": "code",
      "metadata": {
        "id": "Bi179h1SvVTb",
        "colab": {
          "base_uri": "https://localhost:8080/",
          "height": 487
        },
        "outputId": "700c1141-5205-41e9-b01e-a8d54ad53b8f"
      },
      "source": [
        "plt.figure(figsize = (18, 8))\n",
        "sns.heatmap(Car_df.corr(), annot=True)\n",
        "plt.show()"
      ],
      "execution_count": 31,
      "outputs": [
        {
          "output_type": "display_data",
          "data": {
            "image/png": "[encoded data removed]",
            "text/plain": [
              "<Figure size 1296x576 with 2 Axes>"
            ]
          },
          "metadata": {
            "tags": [],
            "needs_background": "light"
          }
        }
      ]
    },
    {
      "cell_type": "markdown",
      "metadata": {
        "id": "c92FfL_Jv1Hh"
      },
      "source": [
        "\n",
        "# **Part IV: Perform Machine Learning**\n",
        "### Our work include **four** different models:\n",
        "\n",
        "*   DummyRegressor\n",
        "*   LinearRegression\n",
        "*   DecisionTreeRegressor\n",
        "*   RandomForestRegressor\n",
        "\n",
        "### We use 'Day of Week' and 'Hour' and 'Holiday' as the features; and 'vacancy' as the target.\n"
      ]
    },
    {
      "cell_type": "markdown",
      "metadata": {
        "id": "yIzq8odWB8V6"
      },
      "source": [
        "### **Step 1: Prepare for independent and dependent variables**"
      ]
    },
    {
      "cell_type": "code",
      "metadata": {
        "id": "a-tDmHl7C077",
        "colab": {
          "base_uri": "https://localhost:8080/",
          "height": 450
        },
        "outputId": "075b6920-b421-4e12-ff0c-7cea8fe19c0c"
      },
      "source": [
        "# features\n",
        "X = Car_df[['Day of Week','Hour','Holiday']]\n",
        "X"
      ],
      "execution_count": 32,
      "outputs": [
        {
          "output_type": "execute_result",
          "data": {
            "text/html": [
              "<div>\n",
              "<style scoped>\n",
              "    .dataframe tbody tr th:only-of-type {\n",
              "        vertical-align: middle;\n",
              "    }\n",
              "\n",
              "    .dataframe tbody tr th {\n",
              "        vertical-align: top;\n",
              "    }\n",
              "\n",
              "    .dataframe thead th {\n",
              "        text-align: right;\n",
              "    }\n",
              "</style>\n",
              "<table border=\"1\" class=\"dataframe\">\n",
              "  <thead>\n",
              "    <tr style=\"text-align: right;\">\n",
              "      <th></th>\n",
              "      <th>Day of Week</th>\n",
              "      <th>Hour</th>\n",
              "      <th>Holiday</th>\n",
              "    </tr>\n",
              "    <tr>\n",
              "      <th>lastupdate</th>\n",
              "      <th></th>\n",
              "      <th></th>\n",
              "      <th></th>\n",
              "    </tr>\n",
              "  </thead>\n",
              "  <tbody>\n",
              "    <tr>\n",
              "      <th>2021-04-01 00:13:00</th>\n",
              "      <td>3</td>\n",
              "      <td>0</td>\n",
              "      <td>0</td>\n",
              "    </tr>\n",
              "    <tr>\n",
              "      <th>2021-04-01 00:27:00</th>\n",
              "      <td>3</td>\n",
              "      <td>0</td>\n",
              "      <td>0</td>\n",
              "    </tr>\n",
              "    <tr>\n",
              "      <th>2021-04-01 00:43:00</th>\n",
              "      <td>3</td>\n",
              "      <td>0</td>\n",
              "      <td>0</td>\n",
              "    </tr>\n",
              "    <tr>\n",
              "      <th>2021-04-01 00:57:00</th>\n",
              "      <td>3</td>\n",
              "      <td>0</td>\n",
              "      <td>0</td>\n",
              "    </tr>\n",
              "    <tr>\n",
              "      <th>2021-04-01 01:11:00</th>\n",
              "      <td>3</td>\n",
              "      <td>1</td>\n",
              "      <td>0</td>\n",
              "    </tr>\n",
              "    <tr>\n",
              "      <th>...</th>\n",
              "      <td>...</td>\n",
              "      <td>...</td>\n",
              "      <td>...</td>\n",
              "    </tr>\n",
              "    <tr>\n",
              "      <th>2021-06-17 09:11:05</th>\n",
              "      <td>3</td>\n",
              "      <td>9</td>\n",
              "      <td>0</td>\n",
              "    </tr>\n",
              "    <tr>\n",
              "      <th>2021-06-17 09:27:05</th>\n",
              "      <td>3</td>\n",
              "      <td>9</td>\n",
              "      <td>0</td>\n",
              "    </tr>\n",
              "    <tr>\n",
              "      <th>2021-06-17 09:41:05</th>\n",
              "      <td>3</td>\n",
              "      <td>9</td>\n",
              "      <td>0</td>\n",
              "    </tr>\n",
              "    <tr>\n",
              "      <th>2021-06-17 09:57:06</th>\n",
              "      <td>3</td>\n",
              "      <td>9</td>\n",
              "      <td>0</td>\n",
              "    </tr>\n",
              "    <tr>\n",
              "      <th>2021-06-17 10:11:06</th>\n",
              "      <td>3</td>\n",
              "      <td>10</td>\n",
              "      <td>0</td>\n",
              "    </tr>\n",
              "  </tbody>\n",
              "</table>\n",
              "<p>6890 rows × 3 columns</p>\n",
              "</div>"
            ],
            "text/plain": [
              "                     Day of Week  Hour  Holiday\n",
              "lastupdate                                     \n",
              "2021-04-01 00:13:00            3     0        0\n",
              "2021-04-01 00:27:00            3     0        0\n",
              "2021-04-01 00:43:00            3     0        0\n",
              "2021-04-01 00:57:00            3     0        0\n",
              "2021-04-01 01:11:00            3     1        0\n",
              "...                          ...   ...      ...\n",
              "2021-06-17 09:11:05            3     9        0\n",
              "2021-06-17 09:27:05            3     9        0\n",
              "2021-06-17 09:41:05            3     9        0\n",
              "2021-06-17 09:57:06            3     9        0\n",
              "2021-06-17 10:11:06            3    10        0\n",
              "\n",
              "[6890 rows x 3 columns]"
            ]
          },
          "metadata": {
            "tags": []
          },
          "execution_count": 32
        }
      ]
    },
    {
      "cell_type": "code",
      "metadata": {
        "id": "EVsU-KB9DAps",
        "colab": {
          "base_uri": "https://localhost:8080/"
        },
        "outputId": "377ab3d8-7a01-427d-8906-d26c4f50200f"
      },
      "source": [
        "# target\n",
        "y = Car_df['vacancy']\n",
        "y"
      ],
      "execution_count": 33,
      "outputs": [
        {
          "output_type": "execute_result",
          "data": {
            "text/plain": [
              "lastupdate\n",
              "2021-04-01 00:13:00    126\n",
              "2021-04-01 00:27:00    126\n",
              "2021-04-01 00:43:00    126\n",
              "2021-04-01 00:57:00    126\n",
              "2021-04-01 01:11:00    126\n",
              "                      ... \n",
              "2021-06-17 09:11:05     96\n",
              "2021-06-17 09:27:05     95\n",
              "2021-06-17 09:41:05     97\n",
              "2021-06-17 09:57:06     90\n",
              "2021-06-17 10:11:06     86\n",
              "Name: vacancy, Length: 6890, dtype: int64"
            ]
          },
          "metadata": {
            "tags": []
          },
          "execution_count": 33
        }
      ]
    },
    {
      "cell_type": "markdown",
      "metadata": {
        "id": "ifXV485vDfi9"
      },
      "source": [
        "### **Step 2: Import machine learning libraries**"
      ]
    },
    {
      "cell_type": "code",
      "metadata": {
        "id": "Zp0tlChqAoxu"
      },
      "source": [
        "#train_test_split\n",
        "from sklearn.model_selection import train_test_split\n",
        "\n",
        "#models\n",
        "from sklearn.dummy import DummyRegressor\n",
        "from sklearn.linear_model import LinearRegression\n",
        "from sklearn.tree import DecisionTreeRegressor\n",
        "from sklearn.ensemble import RandomForestRegressor\n",
        "\n",
        "# evaluation\n",
        "from sklearn.metrics import mean_squared_error"
      ],
      "execution_count": 34,
      "outputs": []
    },
    {
      "cell_type": "markdown",
      "metadata": {
        "id": "d44Xcrq9DsC-"
      },
      "source": [
        "### **Step 3: Split indepedent and dependent variables into train and test sets**"
      ]
    },
    {
      "cell_type": "code",
      "metadata": {
        "id": "WePcC_rgDz8q"
      },
      "source": [
        "X_train, X_test, y_train, y_test = train_test_split(X, y, test_size = 0.3, random_state = 99)"
      ],
      "execution_count": 35,
      "outputs": []
    },
    {
      "cell_type": "markdown",
      "metadata": {
        "id": "HjYxFL_oENNJ"
      },
      "source": [
        "### **Step 4: Train our machine learning models**\n",
        "In this step we do the following things:\n",
        "1. Model selection and initialization\n",
        "2. Declare a variable to store our model in it\n",
        "3. Fit our training data into the instantiated model\n",
        "4. Declare a variable that contains predictions from the model we just trained, using the train dataset (X_test)\n",
        "\n",
        "##### We save all predictions from different model in a list."
      ]
    },
    {
      "cell_type": "code",
      "metadata": {
        "id": "ge3BJbW4FQss"
      },
      "source": [
        "Vac_predictions = []"
      ],
      "execution_count": 36,
      "outputs": []
    },
    {
      "cell_type": "markdown",
      "metadata": {
        "id": "rDOAXrYJFzWi"
      },
      "source": [
        "##### **Model 1: DummyRegressor**"
      ]
    },
    {
      "cell_type": "code",
      "metadata": {
        "id": "lv4efCnUFxzE",
        "colab": {
          "base_uri": "https://localhost:8080/"
        },
        "outputId": "9d9a9e7f-21b4-400f-da28-088df02b3c35"
      },
      "source": [
        "dummy = DummyRegressor() #instantiate \n",
        "dummy.fit(X_train,y_train) # train"
      ],
      "execution_count": 37,
      "outputs": [
        {
          "output_type": "execute_result",
          "data": {
            "text/plain": [
              "DummyRegressor(constant=None, quantile=None, strategy='mean')"
            ]
          },
          "metadata": {
            "tags": []
          },
          "execution_count": 37
        }
      ]
    },
    {
      "cell_type": "code",
      "metadata": {
        "id": "pcx6DIqAGGsC"
      },
      "source": [
        "pred_dummy = dummy.predict(X_test)  # prediction\n",
        "Vac_predictions.append(pred_dummy)"
      ],
      "execution_count": 38,
      "outputs": []
    },
    {
      "cell_type": "markdown",
      "metadata": {
        "id": "vQFNbWQjGPw-"
      },
      "source": [
        "##### **Model 2: LinearRegression**"
      ]
    },
    {
      "cell_type": "code",
      "metadata": {
        "id": "OKTd_Qf-GVvE",
        "colab": {
          "base_uri": "https://localhost:8080/"
        },
        "outputId": "908b2112-bfaf-4ef7-da58-232162923926"
      },
      "source": [
        "lr = LinearRegression() #instantiate \n",
        "lr.fit(X_train,y_train) # train"
      ],
      "execution_count": 39,
      "outputs": [
        {
          "output_type": "execute_result",
          "data": {
            "text/plain": [
              "LinearRegression(copy_X=True, fit_intercept=True, n_jobs=None, normalize=False)"
            ]
          },
          "metadata": {
            "tags": []
          },
          "execution_count": 39
        }
      ]
    },
    {
      "cell_type": "code",
      "metadata": {
        "id": "ht4uLef8GdBA"
      },
      "source": [
        "pred_lr = lr.predict(X_test) # prediction\n",
        "Vac_predictions.append(pred_lr)"
      ],
      "execution_count": 40,
      "outputs": []
    },
    {
      "cell_type": "markdown",
      "metadata": {
        "id": "q-ET2qPDGjXr"
      },
      "source": [
        "##### **Model 3: DecisionTreeRegressor**"
      ]
    },
    {
      "cell_type": "code",
      "metadata": {
        "id": "ahg6YZ9iGt-8",
        "colab": {
          "base_uri": "https://localhost:8080/"
        },
        "outputId": "61ed22d2-48d2-4a7e-da1a-bb5535a8f7ec"
      },
      "source": [
        "dtr = DecisionTreeRegressor() # instantiate\n",
        "dtr.fit(X_train,y_train) # train"
      ],
      "execution_count": 41,
      "outputs": [
        {
          "output_type": "execute_result",
          "data": {
            "text/plain": [
              "DecisionTreeRegressor(ccp_alpha=0.0, criterion='mse', max_depth=None,\n",
              "                      max_features=None, max_leaf_nodes=None,\n",
              "                      min_impurity_decrease=0.0, min_impurity_split=None,\n",
              "                      min_samples_leaf=1, min_samples_split=2,\n",
              "                      min_weight_fraction_leaf=0.0, presort='deprecated',\n",
              "                      random_state=None, splitter='best')"
            ]
          },
          "metadata": {
            "tags": []
          },
          "execution_count": 41
        }
      ]
    },
    {
      "cell_type": "code",
      "metadata": {
        "id": "9-hmS-7BGz3y"
      },
      "source": [
        "pred_dtr = dtr.predict(X_test) # prediction\n",
        "Vac_predictions.append(pred_dtr)"
      ],
      "execution_count": 42,
      "outputs": []
    },
    {
      "cell_type": "markdown",
      "metadata": {
        "id": "8oGqBDT7G9md"
      },
      "source": [
        "##### **Model 4: RandomForestRegressor**"
      ]
    },
    {
      "cell_type": "code",
      "metadata": {
        "id": "VpdKVhxeG7P_",
        "colab": {
          "base_uri": "https://localhost:8080/"
        },
        "outputId": "27bc984c-6d00-4123-c084-8cc9526c18fb"
      },
      "source": [
        "rfr = RandomForestRegressor() #instantiate\n",
        "rfr.fit(X_train,y_train) # train"
      ],
      "execution_count": 43,
      "outputs": [
        {
          "output_type": "execute_result",
          "data": {
            "text/plain": [
              "RandomForestRegressor(bootstrap=True, ccp_alpha=0.0, criterion='mse',\n",
              "                      max_depth=None, max_features='auto', max_leaf_nodes=None,\n",
              "                      max_samples=None, min_impurity_decrease=0.0,\n",
              "                      min_impurity_split=None, min_samples_leaf=1,\n",
              "                      min_samples_split=2, min_weight_fraction_leaf=0.0,\n",
              "                      n_estimators=100, n_jobs=None, oob_score=False,\n",
              "                      random_state=None, verbose=0, warm_start=False)"
            ]
          },
          "metadata": {
            "tags": []
          },
          "execution_count": 43
        }
      ]
    },
    {
      "cell_type": "code",
      "metadata": {
        "id": "_-tnp0tNHIaO"
      },
      "source": [
        "pred_rfr = rfr.predict(X_test) # prediction\n",
        "Vac_predictions.append(pred_rfr)"
      ],
      "execution_count": 44,
      "outputs": []
    },
    {
      "cell_type": "code",
      "metadata": {
        "id": "i3lqU7QQHMvL",
        "colab": {
          "base_uri": "https://localhost:8080/"
        },
        "outputId": "c57fc73b-b33e-4909-bec1-ec872be6c12a"
      },
      "source": [
        "len(Vac_predictions)"
      ],
      "execution_count": 45,
      "outputs": [
        {
          "output_type": "execute_result",
          "data": {
            "text/plain": [
              "4"
            ]
          },
          "metadata": {
            "tags": []
          },
          "execution_count": 45
        }
      ]
    },
    {
      "cell_type": "markdown",
      "metadata": {
        "id": "LIiM0dpnZ3w0"
      },
      "source": [
        "# **Part V: Model performance evaluation**\n",
        "We use the following two ways to assess our model:\n",
        "\n",
        "*  Scatter plot comparing the actual values of the dependent variable predictions\n",
        "*  The root mean-squared-error (RMSE) score\n",
        "\n",
        "\n"
      ]
    },
    {
      "cell_type": "markdown",
      "metadata": {
        "id": "60y4XiTyIIa-"
      },
      "source": [
        "### **Step1: Import the libraries for evaluation**"
      ]
    },
    {
      "cell_type": "code",
      "metadata": {
        "id": "9oxJDOA2rX9j"
      },
      "source": [
        "from sklearn.metrics import mean_squared_error\n",
        "import numpy as np"
      ],
      "execution_count": 46,
      "outputs": []
    },
    {
      "cell_type": "markdown",
      "metadata": {
        "id": "zMNmDPTiIf8H"
      },
      "source": [
        "### **Step2: Results visualization**"
      ]
    },
    {
      "cell_type": "code",
      "metadata": {
        "id": "raEQCT3Qpco7",
        "colab": {
          "base_uri": "https://localhost:8080/",
          "height": 621
        },
        "outputId": "1a8557a4-7026-4b50-d618-0e9ac7ce7151"
      },
      "source": [
        "model_names = ['dummy','linear','decision tree','random forest']\n",
        "\n",
        "fig = plt.figure(figsize=(16,10))\n",
        "\n",
        "for i , (model_name, y_pred) in enumerate(zip(model_names, Vac_predictions)):\n",
        "  mse = mean_squared_error(y_test, y_pred)\n",
        "  ax = fig.add_subplot(2,2,i+1)\n",
        "  ax.plot(y_test, y_test)\n",
        "  ax.scatter(y_test, y_pred)\n",
        "  plt.xlabel('actual vacancy')\n",
        "  plt.ylabel(f'{model_name}\\'s predicted vacancy')\n",
        "  plt.title(f'The RMSE for {model_name} : {np.sqrt(mse)}')"
      ],
      "execution_count": 47,
      "outputs": [
        {
          "output_type": "display_data",
          "data": {
            "image/png": "[encoded data removed]",
            "text/plain": [
              "<Figure size 1152x720 with 4 Axes>"
            ]
          },
          "metadata": {
            "tags": [],
            "needs_background": "light"
          }
        }
      ]
    },
    {
      "cell_type": "markdown",
      "metadata": {
        "id": "Ni08GHBvJc0t"
      },
      "source": [
        "### **Our result: The model *RandomForestRegressor* has the lowest RMSE**"
      ]
    },
    {
      "cell_type": "markdown",
      "metadata": {
        "id": "_ry6JTLwJ7Pq"
      },
      "source": [
        "# **Part VI: Application for our prediction**\n",
        "### Our model can be used to predict the car park availability at the user’s input time in Lee Garden One Car Park."
      ]
    },
    {
      "cell_type": "markdown",
      "metadata": {
        "id": "Nv5v5a7wKJCc"
      },
      "source": [
        "### **Input: Collect information from the user**"
      ]
    },
    {
      "cell_type": "code",
      "metadata": {
        "id": "PWLI4ZyqRBtD",
        "colab": {
          "base_uri": "https://localhost:8080/"
        },
        "outputId": "eb6689cd-0bab-4aca-a8d7-1ada9adb9b02"
      },
      "source": [
        "while True:\n",
        "  try:\n",
        "    year, month, date = input('Please input the date (yyyy/mm/dd):').split('/')\n",
        "    hour, minute = input('Please input the time (hh:mm) e.g. 18:00:').split(':')\n",
        "    dd_time = pd.to_datetime(f'{year}-{month}-{date} {hour}:{minute}:00')\n",
        "    break\n",
        "  except:\n",
        "    print('Please input a valid datetime.')\n",
        "  "
      ],
      "execution_count": 48,
      "outputs": [
        {
          "output_type": "stream",
          "text": [
            "Please input the date (yyyy/mm/dd):2021/06/13\n",
            "Please input the time (hh:mm) e.g. 18:00:23:58\n"
          ],
          "name": "stdout"
        }
      ]
    },
    {
      "cell_type": "code",
      "metadata": {
        "id": "BmA0Xp-WRIjO"
      },
      "source": [
        "# round off the minute to nearest 15 interval\n",
        "dd_time = dd_time.round(freq = '15T')"
      ],
      "execution_count": 49,
      "outputs": []
    },
    {
      "cell_type": "code",
      "metadata": {
        "id": "rjwtw9IGRW8N"
      },
      "source": [
        "user = {}\n",
        "\n",
        "user['Day of Week'] = dd_time.dayofweek\n",
        "user['Hour'] = dd_time.hour\n",
        "\n",
        "if str(dd_time) in ho_dates: user['Holiday'] = [1]\n",
        "else: user['Holiday'] = [0]"
      ],
      "execution_count": 50,
      "outputs": []
    },
    {
      "cell_type": "code",
      "metadata": {
        "id": "FdmqDra0kj2i"
      },
      "source": [
        "user_df = pd.DataFrame(user)"
      ],
      "execution_count": 51,
      "outputs": []
    },
    {
      "cell_type": "code",
      "metadata": {
        "id": "J0wDz_q5Rc_L",
        "colab": {
          "base_uri": "https://localhost:8080/",
          "height": 80
        },
        "outputId": "55670d84-e2e4-4ce1-dcb0-cd7739bf3504"
      },
      "source": [
        "user_df"
      ],
      "execution_count": 52,
      "outputs": [
        {
          "output_type": "execute_result",
          "data": {
            "text/html": [
              "<div>\n",
              "<style scoped>\n",
              "    .dataframe tbody tr th:only-of-type {\n",
              "        vertical-align: middle;\n",
              "    }\n",
              "\n",
              "    .dataframe tbody tr th {\n",
              "        vertical-align: top;\n",
              "    }\n",
              "\n",
              "    .dataframe thead th {\n",
              "        text-align: right;\n",
              "    }\n",
              "</style>\n",
              "<table border=\"1\" class=\"dataframe\">\n",
              "  <thead>\n",
              "    <tr style=\"text-align: right;\">\n",
              "      <th></th>\n",
              "      <th>Day of Week</th>\n",
              "      <th>Hour</th>\n",
              "      <th>Holiday</th>\n",
              "    </tr>\n",
              "  </thead>\n",
              "  <tbody>\n",
              "    <tr>\n",
              "      <th>0</th>\n",
              "      <td>0</td>\n",
              "      <td>0</td>\n",
              "      <td>0</td>\n",
              "    </tr>\n",
              "  </tbody>\n",
              "</table>\n",
              "</div>"
            ],
            "text/plain": [
              "   Day of Week  Hour  Holiday\n",
              "0            0     0        0"
            ]
          },
          "metadata": {
            "tags": []
          },
          "execution_count": 52
        }
      ]
    },
    {
      "cell_type": "code",
      "metadata": {
        "id": "pD3lXW4ERfB0"
      },
      "source": [
        "# Use RandomForestRegressor model\n",
        "pred_vacancy = rfr.predict(user_df)"
      ],
      "execution_count": 53,
      "outputs": []
    },
    {
      "cell_type": "code",
      "metadata": {
        "id": "ZRON_0_XRjit",
        "colab": {
          "base_uri": "https://localhost:8080/"
        },
        "outputId": "a098ac1c-9bf2-4471-ca71-8209676e5864"
      },
      "source": [
        "vac = round(list(pred_vacancy)[0])\n",
        "print('The vacancy in Lee Garden One Car Park at the given time is', round(list(pred_vacancy)[0]))"
      ],
      "execution_count": 54,
      "outputs": [
        {
          "output_type": "stream",
          "text": [
            "The vacancy in Lee Garden One Car Park at the given time is 139\n"
          ],
          "name": "stdout"
        }
      ]
    }
  ]
}